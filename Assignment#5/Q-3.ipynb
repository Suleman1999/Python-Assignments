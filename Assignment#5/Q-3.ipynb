{
 "cells": [
  {
   "cell_type": "code",
   "execution_count": 3,
   "metadata": {},
   "outputs": [
    {
     "name": "stdout",
     "output_type": "stream",
     "text": [
      "Even numbers in list are: \n",
      "0\n",
      "2\n",
      "4\n",
      "8\n",
      "10\n",
      "14\n"
     ]
    }
   ],
   "source": [
    "#Write a Python function to print the even numbers from a given list.\n",
    "list1 = [0 , 1, 2, 4, 5, 8, 10, 11, 14]\n",
    "def evenNumbers(givenList):\n",
    "    print(\"Even numbers in list are: \")\n",
    "    for i in range(0, len(givenList)):\n",
    "        if givenList[i]%2 == 0:\n",
    "            print(givenList[i])\n",
    "\n",
    "evenNumbers(givenList = list1)"
   ]
  },
  {
   "cell_type": "code",
   "execution_count": null,
   "metadata": {},
   "outputs": [],
   "source": []
  }
 ],
 "metadata": {
  "kernelspec": {
   "display_name": "Python 3",
   "language": "python",
   "name": "python3"
  },
  "language_info": {
   "codemirror_mode": {
    "name": "ipython",
    "version": 3
   },
   "file_extension": ".py",
   "mimetype": "text/x-python",
   "name": "python",
   "nbconvert_exporter": "python",
   "pygments_lexer": "ipython3",
   "version": "3.7.4"
  }
 },
 "nbformat": 4,
 "nbformat_minor": 2
}
