{
 "cells": [
  {
   "cell_type": "code",
   "execution_count": 1,
   "metadata": {},
   "outputs": [
    {
     "name": "stdout",
     "output_type": "stream",
     "text": [
      "Flour\n",
      "Rice\n",
      "Ketchup\n",
      "Orange Juice\n",
      "Fish\n"
     ]
    }
   ],
   "source": [
    "#Write a function which accepts the multiple arguments of user shopping list and\n",
    "#print all the items which user bought from market.\n",
    "def shoppingList(a, b, c, d, e):\n",
    "    boughtItems = [a, b, c, d, e]\n",
    "    print(boughtItems[0])\n",
    "    print(boughtItems[1])\n",
    "    print(boughtItems[2])\n",
    "    print(boughtItems[3])\n",
    "    print(boughtItems[4])\n",
    "    \n",
    "shoppingList(\"Flour\", \"Rice\", \"Ketchup\", \"Orange Juice\", \"Fish\")"
   ]
  },
  {
   "cell_type": "code",
   "execution_count": null,
   "metadata": {},
   "outputs": [],
   "source": []
  }
 ],
 "metadata": {
  "kernelspec": {
   "display_name": "Python 3",
   "language": "python",
   "name": "python3"
  },
  "language_info": {
   "codemirror_mode": {
    "name": "ipython",
    "version": 3
   },
   "file_extension": ".py",
   "mimetype": "text/x-python",
   "name": "python",
   "nbconvert_exporter": "python",
   "pygments_lexer": "ipython3",
   "version": "3.7.4"
  }
 },
 "nbformat": 4,
 "nbformat_minor": 2
}
