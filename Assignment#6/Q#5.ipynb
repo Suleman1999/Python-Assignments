{
 "cells": [
  {
   "cell_type": "code",
   "execution_count": 16,
   "metadata": {},
   "outputs": [
    {
     "name": "stdout",
     "output_type": "stream",
     "text": [
      "First object instance of car is \n",
      "car name is : corolla\n",
      "color of car is : white\n",
      "model of car is : 2015\n",
      "car number plate is : gli-123\n",
      "price of car is : 1000000\n",
      "\n",
      "\n",
      "Second object instance of car is \n",
      "car name is : honda\n",
      "color of car is : red\n",
      "model of car is : 2015\n",
      "car number plate is : gli-123\n",
      "price of car is : 1000000\n",
      "\n",
      "\n",
      "Third object instance of car is \n",
      "car name is : swift\n",
      "color of car is : yellow\n",
      "model of car is : 2015\n",
      "car number plate is : gli-123\n",
      "price of car is : 1000000\n",
      "\n",
      "\n",
      "Fourth object instance of car is \n",
      "car name is : aqua\n",
      "color of car is : pink\n",
      "model of car is : 2015\n",
      "car number plate is : gli-123\n",
      "price of car is : 1000000\n",
      "\n",
      "\n",
      "Fifth object instance of car is \n",
      "car name is : cultus\n",
      "color of car is : blue\n",
      "model of car is : 2015\n",
      "car number plate is : gli-123\n",
      "price of car is : 1000000\n"
     ]
    }
   ],
   "source": [
    "# Write a code in python in which create a class named it Car which have 5 attributes such like (model, color and name etc.) and 3 methods. And create 5 object instance from that class.\n",
    "class car:\n",
    "    def __init__(self,name,color,model,numberplate,price):\n",
    "        self.name=name\n",
    "        self.color=color\n",
    "        self.model=model\n",
    "        self.numberplate=numberplate\n",
    "        self.price=price\n",
    "    def car_name_color(self):\n",
    "        return f\"car name is : {self.name}\\ncolor of car is : {self.color}\"\n",
    "\n",
    "    def car_model(self):\n",
    "        return f\"\\nmodel of car is : {self.model}\"\n",
    "\n",
    "    def car_numberplate_price(self):\n",
    "        return f\"\\ncar number plate is : {self.numberplate}\\nprice of car is : {self.price}\"\n",
    "\n",
    "car1 = car(\"corolla\",\"white\",2015,\"gli-123\",1000000)\n",
    "car2 = car(\"honda\",\"red\",2016,\"amn-456\",1200000)\n",
    "car3 = car(\"swift\",\"yellow\",2014,\"asd-789\",1500000)\n",
    "car4 = car(\"aqua\",\"pink\",2018,\"fgh-987\",1900000)\n",
    "car5 = car(\"cultus\",\"blue\",2010,\"qwe-321\",800000)\n",
    "\n",
    "print(\"First object instance of car is \\n\"+car1.car_name_color()+car1.car_model()+car1.car_numberplate_price()+\"\\n\\n\")\n",
    "print(\"Second object instance of car is \\n\"+car2.car_name_color()+car1.car_model()+car1.car_numberplate_price()+\"\\n\\n\")\n",
    "print(\"Third object instance of car is \\n\"+car3.car_name_color()+car1.car_model()+car1.car_numberplate_price()+\"\\n\\n\")\n",
    "print(\"Fourth object instance of car is \\n\"+car4.car_name_color()+car1.car_model()+car1.car_numberplate_price()+\"\\n\\n\")\n",
    "print(\"Fifth object instance of car is \\n\"+car5.car_name_color()+car1.car_model()+car1.car_numberplate_price())\n",
    "\n",
    "\n",
    "    "
   ]
  }
 ],
 "metadata": {
  "kernelspec": {
   "display_name": "Python 3",
   "language": "python",
   "name": "python3"
  },
  "language_info": {
   "codemirror_mode": {
    "name": "ipython",
    "version": 3
   },
   "file_extension": ".py",
   "mimetype": "text/x-python",
   "name": "python",
   "nbconvert_exporter": "python",
   "pygments_lexer": "ipython3",
   "version": "3.7.4"
  }
 },
 "nbformat": 4,
 "nbformat_minor": 2
}
