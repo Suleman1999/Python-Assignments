{
 "cells": [
  {
   "cell_type": "code",
   "execution_count": 6,
   "metadata": {},
   "outputs": [
    {
     "name": "stdout",
     "output_type": "stream",
     "text": [
      "Enter first number: 4\n",
      "Please select operation -\n",
      " 1. Add\n",
      " 2. Subtract\n",
      " 3. Multiply\n",
      " 4. Divide\n",
      " 5. Power\n",
      "\n",
      "Select operations form +, -, *, /, ^ : +\n",
      "Enter second number: 4\n",
      "Your Answer:  4 + 4 = 8\n"
     ]
    }
   ],
   "source": [
    "#1. Make a calculator using Python with addition, subtraction, multiplication, division and power.   \n",
    "def addition(a,b):\n",
    "    return a + b\n",
    "def subtraction(a,b): \n",
    "    return a - b\n",
    "def multiplication(a,b): \n",
    "    return a * b\n",
    "def division(a,b): \n",
    "    return a / b\n",
    "def power(a,b):\n",
    "    return a**b\n",
    "\n",
    "x = int(input(\"Enter first number: \")) \n",
    "print(\"Please select operation -\\n 1. Add\\n 2. Subtract\\n 3. Multiply\\n 4. Divide\\n 5. Power\\n\") \n",
    "op = input(\"Select operations form +, -, *, /, ^ : \")\n",
    "y = int(input(\"Enter second number: \"))\n",
    "\n",
    "if op == '+':\n",
    "    print(\"Your Answer: \", x, \"+\", y, \"=\", addition(x,y))\n",
    "  \n",
    "elif op == '-':\n",
    "    print(\"Your Answer: \", x, \"-\", y, \"=\", subtraction(x,y))\n",
    "  \n",
    "elif op == '*':\n",
    "    print(\"Your Answer: \", x, \"*\", y, \"=\", multiplication(x,y))\n",
    "  \n",
    "elif op == '/':\n",
    "    print(\"Your Answer: \", x, \"/\", y, \"=\", division(x,y))\n",
    "elif op == '^':\n",
    "    print(\"Your Answer: \", x, \"^\", y, \"=\", power(x,y))\n",
    "else:\n",
    "    print(\"Invalid input\")"
   ]
  },
  {
   "cell_type": "code",
   "execution_count": null,
   "metadata": {},
   "outputs": [],
   "source": []
  }
 ],
 "metadata": {
  "kernelspec": {
   "display_name": "Python 3",
   "language": "python",
   "name": "python3"
  },
  "language_info": {
   "codemirror_mode": {
    "name": "ipython",
    "version": 3
   },
   "file_extension": ".py",
   "mimetype": "text/x-python",
   "name": "python",
   "nbconvert_exporter": "python",
   "pygments_lexer": "ipython3",
   "version": "3.7.4"
  }
 },
 "nbformat": 4,
 "nbformat_minor": 2
}
