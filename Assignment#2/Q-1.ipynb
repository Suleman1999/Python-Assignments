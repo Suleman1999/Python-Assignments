{
 "cells": [
  {
   "cell_type": "code",
   "execution_count": 1,
   "metadata": {},
   "outputs": [
    {
     "name": "stdout",
     "output_type": "stream",
     "text": [
      "enter marks for 5 different subjects\n",
      "Enter Science marks 60\n",
      "Enter Maths marks 70\n",
      "Enter Urdu marks 65\n",
      "Enter English marks 68\n",
      "Enter Computer Science marks 81\n",
      "Your Marksheet\n",
      "Science:  60\n",
      "Maths:  70\n",
      "Urdu:  65\n",
      "English:  68\n",
      "Computer Science:  81\n",
      "Total:  344\n"
     ]
    }
   ],
   "source": [
    "print(\"enter marks for 5 different subjects\")\n",
    "marks1 = int(input(\"Enter Science marks \"))\n",
    "marks2 = int(input(\"Enter Maths marks \"))\n",
    "marks3 = int(input(\"Enter Urdu marks \"))\n",
    "marks4 = int(input(\"Enter English marks \"))\n",
    "marks5 = int(input(\"Enter Computer Science marks \"))\n",
    " \n",
    "total = marks1 + marks2 + marks3 + marks4 + marks5\n",
    "\n",
    "print(\"Your Marksheet\")\n",
    "print(\"Science: \", marks1)\n",
    "print(\"Maths: \", marks2)\n",
    "print(\"Urdu: \", marks3)\n",
    "print(\"English: \", marks4)\n",
    "print(\"Computer Science: \", marks5)\n",
    "\n",
    "print(\"Total: \", total)"
   ]
  },
  {
   "cell_type": "code",
   "execution_count": null,
   "metadata": {},
   "outputs": [],
   "source": []
  }
 ],
 "metadata": {
  "kernelspec": {
   "display_name": "Python 3",
   "language": "python",
   "name": "python3"
  },
  "language_info": {
   "codemirror_mode": {
    "name": "ipython",
    "version": 3
   },
   "file_extension": ".py",
   "mimetype": "text/x-python",
   "name": "python",
   "nbconvert_exporter": "python",
   "pygments_lexer": "ipython3",
   "version": "3.7.4"
  }
 },
 "nbformat": 4,
 "nbformat_minor": 2
}
