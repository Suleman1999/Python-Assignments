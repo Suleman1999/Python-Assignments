{
 "cells": [
  {
   "cell_type": "code",
   "execution_count": 6,
   "metadata": {},
   "outputs": [
    {
     "name": "stdout",
     "output_type": "stream",
     "text": [
      "Movie theater charges different ticket prices depending on a person’s age\n",
      "Enter your age: 2\n",
      "Your ticket is free\n",
      "Enter your age: 7\n",
      "Your ticket costs $10\n",
      "Enter your age: 10\n",
      "Your ticket costs $10\n",
      "Enter your age: 14\n",
      "Your ticket costs $15\n",
      "Enter your age: 20\n",
      "Your ticket costs $15\n"
     ]
    }
   ],
   "source": [
    "print(\"Movie theater charges different ticket prices depending on a person’s age\")\n",
    "\n",
    "for i in range(5):\n",
    "    age = int(input(\"Enter your age: \"))\n",
    "    \n",
    "    if age < 3:\n",
    "        print(\"Your ticket is free\")\n",
    "        \n",
    "    elif age > 3 and age < 12:\n",
    "        print(\"Your ticket costs $10\")\n",
    "        \n",
    "    else:\n",
    "        print(\"Your ticket costs $15\")\n",
    "    "
   ]
  },
  {
   "cell_type": "code",
   "execution_count": null,
   "metadata": {},
   "outputs": [],
   "source": []
  }
 ],
 "metadata": {
  "kernelspec": {
   "display_name": "Python 3",
   "language": "python",
   "name": "python3"
  },
  "language_info": {
   "codemirror_mode": {
    "name": "ipython",
    "version": 3
   },
   "file_extension": ".py",
   "mimetype": "text/x-python",
   "name": "python",
   "nbconvert_exporter": "python",
   "pygments_lexer": "ipython3",
   "version": "3.7.4"
  }
 },
 "nbformat": 4,
 "nbformat_minor": 2
}
