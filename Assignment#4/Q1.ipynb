{
 "cells": [
  {
   "cell_type": "code",
   "execution_count": 1,
   "metadata": {},
   "outputs": [
    {
     "name": "stdout",
     "output_type": "stream",
     "text": [
      "first name : Bilal\n",
      "last name : Ali\n",
      "age : 20\n",
      "city : Karachi\n"
     ]
    }
   ],
   "source": [
    "known_person = {\n",
    "    \"first_name\" : \"Bilal\",\n",
    "    \"last_name\" : \"Ali\",\n",
    "    \"age\" : 20,\n",
    "    \"city\" : \"Karachi\",\n",
    "}\n",
    "print(\"first name : \" + known_person[\"first_name\"])\n",
    "print(\"last name : \" + known_person[\"last_name\"])\n",
    "print(\"age : \" + str(known_person[\"age\"]))\n",
    "print(\"city : \" + known_person[\"city\"])"
   ]
  },
  {
   "cell_type": "code",
   "execution_count": 2,
   "metadata": {},
   "outputs": [
    {
     "name": "stdout",
     "output_type": "stream",
     "text": [
      "{'first_name': 'Bilal', 'last_name': 'Ali', 'age': 20, 'city': 'Karachi', 'qualification': 'High Academic Level'}\n"
     ]
    }
   ],
   "source": [
    "known_person = {\n",
    "    \"first_name\" : \"Bilal\",\n",
    "    \"last_name\" : \"Ali\",\n",
    "    \"age\" : 20,\n",
    "    \"city\" : \"Karachi\",\n",
    "}\n",
    "known_person[\"qualification\"] = \"Matric\"\n",
    "known_person[\"qualification\"] = \"High Academic Level\"\n",
    "print(known_person)"
   ]
  },
  {
   "cell_type": "code",
   "execution_count": 3,
   "metadata": {},
   "outputs": [
    {
     "name": "stdout",
     "output_type": "stream",
     "text": [
      "{'first_name': 'Bilal', 'last_name': 'Ali', 'age': 20, 'city': 'Karachi'}\n"
     ]
    }
   ],
   "source": [
    "known_person = {\n",
    "    \"first_name\" : \"Bilal\",\n",
    "    \"last_name\" : \"Ali\",\n",
    "    \"age\" : 20,\n",
    "    \"city\" : \"Karachi\",\n",
    "}\n",
    "known_person[\"qualification\"] = \"Matric\"\n",
    "known_person[\"qualification\"] = \"High Academic Level\"\n",
    "del known_person[\"qualification\"]\n",
    "print(known_person)"
   ]
  },
  {
   "cell_type": "code",
   "execution_count": null,
   "metadata": {},
   "outputs": [],
   "source": []
  }
 ],
 "metadata": {
  "kernelspec": {
   "display_name": "Python 3",
   "language": "python",
   "name": "python3"
  },
  "language_info": {
   "codemirror_mode": {
    "name": "ipython",
    "version": 3
   },
   "file_extension": ".py",
   "mimetype": "text/x-python",
   "name": "python",
   "nbconvert_exporter": "python",
   "pygments_lexer": "ipython3",
   "version": "3.7.4"
  }
 },
 "nbformat": 4,
 "nbformat_minor": 2
}
