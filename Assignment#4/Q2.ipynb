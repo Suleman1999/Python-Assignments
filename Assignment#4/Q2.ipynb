{
 "cells": [
  {
   "cell_type": "code",
   "execution_count": 5,
   "metadata": {},
   "outputs": [
    {
     "name": "stdout",
     "output_type": "stream",
     "text": [
      "city name : Karachi \n",
      "country : Pakistan\n",
      "Population : 14.91 million\n",
      "Fact : karachi is the very first capital of the country, known as the City of Lights for ages.\n",
      "\n",
      "city name : Lahore \n",
      "country : Pakistan\n",
      "Population : 11.13 million\n",
      "Fact : Lahore is the country's second-most populous city after Karachi.\n",
      "\n",
      "city name : Tokyo \n",
      "country : Japan\n",
      "Population : 9.273 million\n",
      "Fact : Tokyo Skytree was announced as the tallest tower in the world in 2010.\n"
     ]
    }
   ],
   "source": [
    "cities = {\n",
    "    \"Karachi\" : {\n",
    "        \"country\" : \"Pakistan\",\n",
    "        \"Population\" : \"14.91 million\",\n",
    "        \"Fact\" : \"karachi is the very first capital of the country, known as the City of Lights for ages.\",\n",
    "    },\n",
    "    \n",
    "    \"Lahore\" : {\n",
    "        \"country\" : \"Pakistan\",\n",
    "        \"Population\" : \"11.13 million\",\n",
    "        \"Fact\" : \"Lahore is the country's second-most populous city after Karachi.\",\n",
    "    },\n",
    "    \n",
    "    \"Tokyo\" : {\n",
    "        \"country\" : \"Japan\",\n",
    "        \"Population\" : \"9.273 million\",\n",
    "        \"Fact\" : \"Tokyo Skytree was announced as the tallest tower in the world in 2010.\",\n",
    "    },\n",
    "}\n",
    "\n",
    "print(\"city name : Karachi \")\n",
    "print(\"country : \" + cities[\"Karachi\"][\"country\"])\n",
    "print(\"Population : \" + cities[\"Karachi\"][\"Population\"])\n",
    "print(\"Fact : \" + cities[\"Karachi\"][\"Fact\"])\n",
    "print()\n",
    "print(\"city name : Lahore \")\n",
    "print(\"country : \" + cities[\"Lahore\"][\"country\"])\n",
    "print(\"Population : \" + cities[\"Lahore\"][\"Population\"])\n",
    "print(\"Fact : \" + cities[\"Lahore\"][\"Fact\"])\n",
    "print()\n",
    "print(\"city name : Tokyo \")\n",
    "print(\"country : \" + cities[\"Tokyo\"][\"country\"])\n",
    "print(\"Population : \" + cities[\"Tokyo\"][\"Population\"])\n",
    "print(\"Fact : \" + cities[\"Tokyo\"][\"Fact\"])\n"
   ]
  },
  {
   "cell_type": "code",
   "execution_count": null,
   "metadata": {},
   "outputs": [],
   "source": []
  }
 ],
 "metadata": {
  "kernelspec": {
   "display_name": "Python 3",
   "language": "python",
   "name": "python3"
  },
  "language_info": {
   "codemirror_mode": {
    "name": "ipython",
    "version": 3
   },
   "file_extension": ".py",
   "mimetype": "text/x-python",
   "name": "python",
   "nbconvert_exporter": "python",
   "pygments_lexer": "ipython3",
   "version": "3.7.4"
  }
 },
 "nbformat": 4,
 "nbformat_minor": 2
}
